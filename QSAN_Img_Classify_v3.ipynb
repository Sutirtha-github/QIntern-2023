{
  "cells": [
    {
      "cell_type": "code",
      "execution_count": null,
      "metadata": {
        "colab": {
          "base_uri": "https://localhost:8080/"
        },
        "id": "BG7e2-0fjVBh",
        "outputId": "e26bb8ef-ade2-4e90-d411-9ea531c534e7"
      },
      "outputs": [
        {
          "output_type": "stream",
          "name": "stdout",
          "text": [
            "Collecting qiskit\n",
            "  Downloading qiskit-0.44.1-py3-none-any.whl (8.2 kB)\n",
            "Collecting qiskit-terra==0.25.1 (from qiskit)\n",
            "  Downloading qiskit_terra-0.25.1-cp38-abi3-manylinux_2_17_x86_64.manylinux2014_x86_64.whl (6.1 MB)\n",
            "\u001b[2K     \u001b[90m━━━━━━━━━━━━━━━━━━━━━━━━━━━━━━━━━━━━━━━━\u001b[0m \u001b[32m6.1/6.1 MB\u001b[0m \u001b[31m42.4 MB/s\u001b[0m eta \u001b[36m0:00:00\u001b[0m\n",
            "\u001b[?25hCollecting rustworkx>=0.13.0 (from qiskit-terra==0.25.1->qiskit)\n",
            "  Downloading rustworkx-0.13.1-cp310-cp310-manylinux_2_17_x86_64.manylinux2014_x86_64.whl (2.0 MB)\n",
            "\u001b[2K     \u001b[90m━━━━━━━━━━━━━━━━━━━━━━━━━━━━━━━━━━━━━━━━\u001b[0m \u001b[32m2.0/2.0 MB\u001b[0m \u001b[31m69.8 MB/s\u001b[0m eta \u001b[36m0:00:00\u001b[0m\n",
            "\u001b[?25hRequirement already satisfied: numpy>=1.17 in /usr/local/lib/python3.10/dist-packages (from qiskit-terra==0.25.1->qiskit) (1.23.5)\n",
            "Collecting ply>=3.10 (from qiskit-terra==0.25.1->qiskit)\n",
            "  Downloading ply-3.11-py2.py3-none-any.whl (49 kB)\n",
            "\u001b[2K     \u001b[90m━━━━━━━━━━━━━━━━━━━━━━━━━━━━━━━━━━━━━━━━\u001b[0m \u001b[32m49.6/49.6 kB\u001b[0m \u001b[31m6.7 MB/s\u001b[0m eta \u001b[36m0:00:00\u001b[0m\n",
            "\u001b[?25hRequirement already satisfied: psutil>=5 in /usr/local/lib/python3.10/dist-packages (from qiskit-terra==0.25.1->qiskit) (5.9.5)\n",
            "Requirement already satisfied: scipy>=1.5 in /usr/local/lib/python3.10/dist-packages (from qiskit-terra==0.25.1->qiskit) (1.10.1)\n",
            "Requirement already satisfied: sympy>=1.3 in /usr/local/lib/python3.10/dist-packages (from qiskit-terra==0.25.1->qiskit) (1.12)\n",
            "Collecting dill>=0.3 (from qiskit-terra==0.25.1->qiskit)\n",
            "  Downloading dill-0.3.7-py3-none-any.whl (115 kB)\n",
            "\u001b[2K     \u001b[90m━━━━━━━━━━━━━━━━━━━━━━━━━━━━━━━━━━━━━━\u001b[0m \u001b[32m115.3/115.3 kB\u001b[0m \u001b[31m15.4 MB/s\u001b[0m eta \u001b[36m0:00:00\u001b[0m\n",
            "\u001b[?25hRequirement already satisfied: python-dateutil>=2.8.0 in /usr/local/lib/python3.10/dist-packages (from qiskit-terra==0.25.1->qiskit) (2.8.2)\n",
            "Collecting stevedore>=3.0.0 (from qiskit-terra==0.25.1->qiskit)\n",
            "  Downloading stevedore-5.1.0-py3-none-any.whl (49 kB)\n",
            "\u001b[2K     \u001b[90m━━━━━━━━━━━━━━━━━━━━━━━━━━━━━━━━━━━━━━━━\u001b[0m \u001b[32m49.6/49.6 kB\u001b[0m \u001b[31m6.9 MB/s\u001b[0m eta \u001b[36m0:00:00\u001b[0m\n",
            "\u001b[?25hCollecting symengine<0.10,>=0.9 (from qiskit-terra==0.25.1->qiskit)\n",
            "  Downloading symengine-0.9.2-cp310-cp310-manylinux2010_x86_64.whl (37.5 MB)\n",
            "\u001b[2K     \u001b[90m━━━━━━━━━━━━━━━━━━━━━━━━━━━━━━━━━━━━━━━━\u001b[0m \u001b[32m37.5/37.5 MB\u001b[0m \u001b[31m18.0 MB/s\u001b[0m eta \u001b[36m0:00:00\u001b[0m\n",
            "\u001b[?25hRequirement already satisfied: typing-extensions in /usr/local/lib/python3.10/dist-packages (from qiskit-terra==0.25.1->qiskit) (4.7.1)\n",
            "Requirement already satisfied: six>=1.5 in /usr/local/lib/python3.10/dist-packages (from python-dateutil>=2.8.0->qiskit-terra==0.25.1->qiskit) (1.16.0)\n",
            "Collecting pbr!=2.1.0,>=2.0.0 (from stevedore>=3.0.0->qiskit-terra==0.25.1->qiskit)\n",
            "  Downloading pbr-5.11.1-py2.py3-none-any.whl (112 kB)\n",
            "\u001b[2K     \u001b[90m━━━━━━━━━━━━━━━━━━━━━━━━━━━━━━━━━━━━━━\u001b[0m \u001b[32m112.7/112.7 kB\u001b[0m \u001b[31m15.2 MB/s\u001b[0m eta \u001b[36m0:00:00\u001b[0m\n",
            "\u001b[?25hRequirement already satisfied: mpmath>=0.19 in /usr/local/lib/python3.10/dist-packages (from sympy>=1.3->qiskit-terra==0.25.1->qiskit) (1.3.0)\n",
            "Installing collected packages: ply, symengine, rustworkx, pbr, dill, stevedore, qiskit-terra, qiskit\n",
            "Successfully installed dill-0.3.7 pbr-5.11.1 ply-3.11 qiskit-0.44.1 qiskit-terra-0.25.1 rustworkx-0.13.1 stevedore-5.1.0 symengine-0.9.2\n"
          ]
        }
      ],
      "source": [
        "!pip install qiskit"
      ],
      "id": "BG7e2-0fjVBh"
    },
    {
      "cell_type": "code",
      "execution_count": null,
      "metadata": {
        "colab": {
          "base_uri": "https://localhost:8080/"
        },
        "id": "XvxLXpPrjjQ_",
        "outputId": "407572f7-09ad-46dd-8669-7af03dee2d88"
      },
      "outputs": [
        {
          "output_type": "stream",
          "name": "stdout",
          "text": [
            "Collecting qiskit_machine_learning\n",
            "  Downloading qiskit_machine_learning-0.6.1-py3-none-any.whl (148 kB)\n",
            "\u001b[2K     \u001b[90m━━━━━━━━━━━━━━━━━━━━━━━━━━━━━━━━━━━━━━━\u001b[0m \u001b[32m148.7/148.7 kB\u001b[0m \u001b[31m3.2 MB/s\u001b[0m eta \u001b[36m0:00:00\u001b[0m\n",
            "\u001b[?25hRequirement already satisfied: qiskit-terra>=0.22.2 in /usr/local/lib/python3.10/dist-packages (from qiskit_machine_learning) (0.25.1)\n",
            "Requirement already satisfied: scipy>=1.4 in /usr/local/lib/python3.10/dist-packages (from qiskit_machine_learning) (1.10.1)\n",
            "Requirement already satisfied: numpy>=1.17 in /usr/local/lib/python3.10/dist-packages (from qiskit_machine_learning) (1.23.5)\n",
            "Requirement already satisfied: psutil>=5 in /usr/local/lib/python3.10/dist-packages (from qiskit_machine_learning) (5.9.5)\n",
            "Requirement already satisfied: scikit-learn>=0.20.0 in /usr/local/lib/python3.10/dist-packages (from qiskit_machine_learning) (1.2.2)\n",
            "Collecting fastdtw (from qiskit_machine_learning)\n",
            "  Downloading fastdtw-0.3.4.tar.gz (133 kB)\n",
            "\u001b[2K     \u001b[90m━━━━━━━━━━━━━━━━━━━━━━━━━━━━━━━━━━━━━━━\u001b[0m \u001b[32m133.4/133.4 kB\u001b[0m \u001b[31m9.2 MB/s\u001b[0m eta \u001b[36m0:00:00\u001b[0m\n",
            "\u001b[?25h  Preparing metadata (setup.py) ... \u001b[?25l\u001b[?25hdone\n",
            "Requirement already satisfied: setuptools>=40.1.0 in /usr/local/lib/python3.10/dist-packages (from qiskit_machine_learning) (67.7.2)\n",
            "Requirement already satisfied: dill>=0.3.4 in /usr/local/lib/python3.10/dist-packages (from qiskit_machine_learning) (0.3.7)\n",
            "Requirement already satisfied: rustworkx>=0.13.0 in /usr/local/lib/python3.10/dist-packages (from qiskit-terra>=0.22.2->qiskit_machine_learning) (0.13.1)\n",
            "Requirement already satisfied: ply>=3.10 in /usr/local/lib/python3.10/dist-packages (from qiskit-terra>=0.22.2->qiskit_machine_learning) (3.11)\n",
            "Requirement already satisfied: sympy>=1.3 in /usr/local/lib/python3.10/dist-packages (from qiskit-terra>=0.22.2->qiskit_machine_learning) (1.12)\n",
            "Requirement already satisfied: python-dateutil>=2.8.0 in /usr/local/lib/python3.10/dist-packages (from qiskit-terra>=0.22.2->qiskit_machine_learning) (2.8.2)\n",
            "Requirement already satisfied: stevedore>=3.0.0 in /usr/local/lib/python3.10/dist-packages (from qiskit-terra>=0.22.2->qiskit_machine_learning) (5.1.0)\n",
            "Requirement already satisfied: symengine<0.10,>=0.9 in /usr/local/lib/python3.10/dist-packages (from qiskit-terra>=0.22.2->qiskit_machine_learning) (0.9.2)\n",
            "Requirement already satisfied: typing-extensions in /usr/local/lib/python3.10/dist-packages (from qiskit-terra>=0.22.2->qiskit_machine_learning) (4.7.1)\n",
            "Requirement already satisfied: joblib>=1.1.1 in /usr/local/lib/python3.10/dist-packages (from scikit-learn>=0.20.0->qiskit_machine_learning) (1.3.2)\n",
            "Requirement already satisfied: threadpoolctl>=2.0.0 in /usr/local/lib/python3.10/dist-packages (from scikit-learn>=0.20.0->qiskit_machine_learning) (3.2.0)\n",
            "Requirement already satisfied: six>=1.5 in /usr/local/lib/python3.10/dist-packages (from python-dateutil>=2.8.0->qiskit-terra>=0.22.2->qiskit_machine_learning) (1.16.0)\n",
            "Requirement already satisfied: pbr!=2.1.0,>=2.0.0 in /usr/local/lib/python3.10/dist-packages (from stevedore>=3.0.0->qiskit-terra>=0.22.2->qiskit_machine_learning) (5.11.1)\n",
            "Requirement already satisfied: mpmath>=0.19 in /usr/local/lib/python3.10/dist-packages (from sympy>=1.3->qiskit-terra>=0.22.2->qiskit_machine_learning) (1.3.0)\n",
            "Building wheels for collected packages: fastdtw\n",
            "  Building wheel for fastdtw (setup.py) ... \u001b[?25l\u001b[?25hdone\n",
            "  Created wheel for fastdtw: filename=fastdtw-0.3.4-cp310-cp310-linux_x86_64.whl size=471389 sha256=e322b7843273a2abbd8b0fc2773e5c0a939d155ebc4d1128c35b71963bef9550\n",
            "  Stored in directory: /root/.cache/pip/wheels/73/c8/f7/c25448dab74c3acf4848bc25d513c736bb93910277e1528ef4\n",
            "Successfully built fastdtw\n",
            "Installing collected packages: fastdtw, qiskit_machine_learning\n",
            "Successfully installed fastdtw-0.3.4 qiskit_machine_learning-0.6.1\n"
          ]
        }
      ],
      "source": [
        "!pip install qiskit_machine_learning"
      ],
      "id": "XvxLXpPrjjQ_"
    },
    {
      "cell_type": "code",
      "execution_count": null,
      "metadata": {
        "id": "60c8ad11-0f12-412c-bef7-f0b4edf9787b"
      },
      "outputs": [],
      "source": [
        "import torch\n",
        "import numpy as np\n",
        "import torch.nn as nn\n",
        "import torch.optim as optim\n",
        "import torch.nn.functional as F\n",
        "from torchvision import datasets, transforms\n",
        "from torch.utils.data import DataLoader\n",
        "from torch import cat, no_grad, manual_seed\n",
        "from torch.utils.data.sampler import SubsetRandomSampler\n",
        "from torch.nn import (\n",
        "    Module,\n",
        "    Conv2d,\n",
        "    Linear,\n",
        "    Dropout,\n",
        "    CrossEntropyLoss,\n",
        "    Flatten,\n",
        "    Sequential,\n",
        "    ReLU,\n",
        ")\n",
        "\n",
        "from qiskit import QuantumCircuit, QuantumRegister, ClassicalRegister\n",
        "from qiskit.utils import algorithm_globals\n",
        "from qiskit.circuit import Parameter, ParameterVector\n",
        "from qiskit.quantum_info import SparsePauliOp\n",
        "from qiskit.circuit.library import TwoLocal, CXGate\n",
        "from qiskit.primitives import Sampler\n",
        "from qiskit.circuit.library import ZZFeatureMap, RealAmplitudes\n",
        "from qiskit_machine_learning.neural_networks import SamplerQNN, EstimatorQNN\n",
        "from qiskit_machine_learning.connectors import TorchConnector\n"
      ],
      "id": "60c8ad11-0f12-412c-bef7-f0b4edf9787b"
    },
    {
      "cell_type": "code",
      "execution_count": null,
      "metadata": {
        "colab": {
          "base_uri": "https://localhost:8080/",
          "height": 35
        },
        "id": "436RBXhJcQ_x",
        "outputId": "840fb5d9-a9b7-4a55-b536-233e934bf96d"
      },
      "outputs": [
        {
          "output_type": "execute_result",
          "data": {
            "text/plain": [
              "'cuda'"
            ],
            "application/vnd.google.colaboratory.intrinsic+json": {
              "type": "string"
            }
          },
          "metadata": {},
          "execution_count": 4
        }
      ],
      "source": [
        "device = \"cuda\" if torch.cuda.is_available() else \"cpu\"\n",
        "device"
      ],
      "id": "436RBXhJcQ_x"
    },
    {
      "cell_type": "markdown",
      "metadata": {
        "id": "47f072b6-002f-4601-b520-66a29c75aabe"
      },
      "source": [
        "## Loading the Fashion MNIST dataset"
      ],
      "id": "47f072b6-002f-4601-b520-66a29c75aabe"
    },
    {
      "cell_type": "code",
      "execution_count": null,
      "metadata": {
        "colab": {
          "base_uri": "https://localhost:8080/"
        },
        "id": "64635b72-0e23-4c5d-b486-36bc5eee08ac",
        "outputId": "f7fbe9ac-f0a2-409d-ef44-56f89b66c214"
      },
      "outputs": [
        {
          "output_type": "stream",
          "name": "stdout",
          "text": [
            "Downloading http://fashion-mnist.s3-website.eu-central-1.amazonaws.com/train-images-idx3-ubyte.gz\n",
            "Downloading http://fashion-mnist.s3-website.eu-central-1.amazonaws.com/train-images-idx3-ubyte.gz to /root/.pytorch/F_MNIST_data/FashionMNIST/raw/train-images-idx3-ubyte.gz\n"
          ]
        },
        {
          "output_type": "stream",
          "name": "stderr",
          "text": [
            "100%|██████████| 26421880/26421880 [00:01<00:00, 15983431.93it/s]\n"
          ]
        },
        {
          "output_type": "stream",
          "name": "stdout",
          "text": [
            "Extracting /root/.pytorch/F_MNIST_data/FashionMNIST/raw/train-images-idx3-ubyte.gz to /root/.pytorch/F_MNIST_data/FashionMNIST/raw\n",
            "\n",
            "Downloading http://fashion-mnist.s3-website.eu-central-1.amazonaws.com/train-labels-idx1-ubyte.gz\n",
            "Downloading http://fashion-mnist.s3-website.eu-central-1.amazonaws.com/train-labels-idx1-ubyte.gz to /root/.pytorch/F_MNIST_data/FashionMNIST/raw/train-labels-idx1-ubyte.gz\n"
          ]
        },
        {
          "output_type": "stream",
          "name": "stderr",
          "text": [
            "100%|██████████| 29515/29515 [00:00<00:00, 273582.27it/s]\n"
          ]
        },
        {
          "output_type": "stream",
          "name": "stdout",
          "text": [
            "Extracting /root/.pytorch/F_MNIST_data/FashionMNIST/raw/train-labels-idx1-ubyte.gz to /root/.pytorch/F_MNIST_data/FashionMNIST/raw\n",
            "\n",
            "Downloading http://fashion-mnist.s3-website.eu-central-1.amazonaws.com/t10k-images-idx3-ubyte.gz\n",
            "Downloading http://fashion-mnist.s3-website.eu-central-1.amazonaws.com/t10k-images-idx3-ubyte.gz to /root/.pytorch/F_MNIST_data/FashionMNIST/raw/t10k-images-idx3-ubyte.gz\n"
          ]
        },
        {
          "output_type": "stream",
          "name": "stderr",
          "text": [
            "100%|██████████| 4422102/4422102 [00:00<00:00, 5027398.09it/s]\n"
          ]
        },
        {
          "output_type": "stream",
          "name": "stdout",
          "text": [
            "Extracting /root/.pytorch/F_MNIST_data/FashionMNIST/raw/t10k-images-idx3-ubyte.gz to /root/.pytorch/F_MNIST_data/FashionMNIST/raw\n",
            "\n",
            "Downloading http://fashion-mnist.s3-website.eu-central-1.amazonaws.com/t10k-labels-idx1-ubyte.gz\n",
            "Downloading http://fashion-mnist.s3-website.eu-central-1.amazonaws.com/t10k-labels-idx1-ubyte.gz to /root/.pytorch/F_MNIST_data/FashionMNIST/raw/t10k-labels-idx1-ubyte.gz\n"
          ]
        },
        {
          "output_type": "stream",
          "name": "stderr",
          "text": [
            "100%|██████████| 5148/5148 [00:00<00:00, 19992849.07it/s]"
          ]
        },
        {
          "output_type": "stream",
          "name": "stdout",
          "text": [
            "Extracting /root/.pytorch/F_MNIST_data/FashionMNIST/raw/t10k-labels-idx1-ubyte.gz to /root/.pytorch/F_MNIST_data/FashionMNIST/raw\n",
            "\n"
          ]
        },
        {
          "output_type": "stream",
          "name": "stderr",
          "text": [
            "\n"
          ]
        }
      ],
      "source": [
        "# Convert the images into normalized Tensors\n",
        "\n",
        "transform = transforms.Compose([transforms.ToTensor(),\n",
        "                               transforms.Normalize((0.5,), (0.5,),)])\n",
        "\n",
        "# Load the train/test datasets\n",
        "\n",
        "trainset = datasets.FashionMNIST('~/.pytorch/F_MNIST_data', download=True, train=True, transform = transform)\n",
        "testset = datasets.FashionMNIST('~/.pytorch/F_MNIST_data', download=True, train=False, transform = transform)\n",
        "\n",
        "# Create Validation set\n",
        "\n",
        "train_indices = list(range(1000))\n",
        "test_indices = list(range(500))\n",
        "np.random.shuffle(train_indices)\n",
        "np.random.shuffle(test_indices)\n",
        "train_sample = SubsetRandomSampler(train_indices)\n",
        "test_sample =  SubsetRandomSampler(test_indices)\n",
        "\n",
        "# Data Loader\n",
        "\n",
        "train_loader = DataLoader(trainset, sampler = train_sample, batch_size = 64)\n",
        "#valid_loader  = DataLoader(trainset, sampler = valid_sample, batch_size = 32)\n",
        "test_loader  = DataLoader(testset, sampler = test_sample, batch_size = 64)"
      ],
      "id": "64635b72-0e23-4c5d-b486-36bc5eee08ac"
    },
    {
      "cell_type": "code",
      "execution_count": null,
      "metadata": {
        "colab": {
          "base_uri": "https://localhost:8080/"
        },
        "id": "f87f69d3-9905-4670-92bb-fc2bdf52c67b",
        "outputId": "9e6a80a2-479f-408f-8eb4-346b42682ec6"
      },
      "outputs": [
        {
          "output_type": "stream",
          "name": "stdout",
          "text": [
            "Train size: 1000 | Test size: 500\n"
          ]
        }
      ],
      "source": [
        "print(f'Train size: {len(train_sample)} | Test size: {len(test_sample)}')"
      ],
      "id": "f87f69d3-9905-4670-92bb-fc2bdf52c67b"
    },
    {
      "cell_type": "code",
      "execution_count": null,
      "metadata": {
        "colab": {
          "base_uri": "https://localhost:8080/",
          "height": 523
        },
        "id": "771d100c-1950-4d55-9609-a4b5bbcbd829",
        "outputId": "5336eed8-4bf0-4143-e151-09bc157bf9a3"
      },
      "outputs": [
        {
          "name": "stdout",
          "output_type": "stream",
          "text": [
            "<torch.utils.data.dataloader._SingleProcessDataLoaderIter object at 0x7e0800e32380>\n"
          ]
        },
        {
          "data": {
            "image/png": "[encoded data removed]",
            "text/plain": [
              "<Figure size 1500x500 with 20 Axes>"
            ]
          },
          "metadata": {},
          "output_type": "display_data"
        }
      ],
      "source": [
        "import matplotlib.pyplot as plt\n",
        "%matplotlib inline\n",
        "\n",
        "dataiter = iter(train_loader)\n",
        "print(dataiter)\n",
        "images, labels = next(dataiter)\n",
        "\n",
        "\n",
        "fig = plt.figure(figsize=(15,5))\n",
        "for idx in np.arange(20):\n",
        "  # xticks=[], yticks=[] is empty to print the images without any ticks around them\n",
        "  #np.sqeeze : Remove single-dimensional entries from the shape of an array.\n",
        "  ax = fig.add_subplot(4, 20//4, idx+1, xticks=[], yticks=[])\n",
        "  ax.imshow(np.squeeze(images[idx]), cmap='gray')\n",
        "   # .item() gets the value contained in a Tensor\n",
        "  ax.set_title(labels[idx].item())\n",
        "  fig.tight_layout()"
      ],
      "id": "771d100c-1950-4d55-9609-a4b5bbcbd829"
    },
    {
      "cell_type": "markdown",
      "metadata": {
        "id": "451e280a-565e-436c-a0de-b937cb55ba2e"
      },
      "source": [
        "# Creating QSAN module"
      ],
      "id": "451e280a-565e-436c-a0de-b937cb55ba2e"
    },
    {
      "cell_type": "code",
      "execution_count": null,
      "metadata": {
        "id": "fefb8ee2-09ff-4ecc-9914-3088e99b9c60"
      },
      "outputs": [],
      "source": [
        "# initialize qc architecture params\n",
        "num_qubits = 3\n",
        "Denc = 1"
      ],
      "id": "fefb8ee2-09ff-4ecc-9914-3088e99b9c60"
    },
    {
      "cell_type": "code",
      "execution_count": null,
      "metadata": {
        "id": "VEzsD-tEdT9z"
      },
      "outputs": [],
      "source": [
        "class Feature_map():\n",
        "\n",
        "  '''\n",
        "  Creates the parametric quantum encoding module\n",
        "  '''\n",
        "\n",
        "  def __init__(self, num_qubits, Denc):\n",
        "    self.num_qubits = num_qubits\n",
        "    self.Denc = Denc\n",
        "\n",
        "  def parameters(self):\n",
        "    params = ParameterVector(\"input\", self.num_qubits*(self.Denc+2))\n",
        "    return params\n",
        "\n",
        "  def fmap(self):\n",
        "    indx=0\n",
        "    params = self.parameters()\n",
        "    qc = QuantumCircuit(self.num_qubits)\n",
        "    for j in range(self.num_qubits):\n",
        "        qc.rx(params[indx],j)\n",
        "        qc.ry(params[indx+1],j)\n",
        "        indx+=2\n",
        "    for i in range(self.Denc):\n",
        "        for j in range(self.num_qubits):\n",
        "            qc.cx(j,(j+1)%self.num_qubits)\n",
        "\n",
        "        for j in range(self.num_qubits):\n",
        "            #qc.rx(params[indx],j)\n",
        "            qc.ry(params[indx],j)\n",
        "            indx+=1\n",
        "    return qc"
      ],
      "id": "VEzsD-tEdT9z"
    },
    {
      "cell_type": "code",
      "execution_count": null,
      "metadata": {
        "colab": {
          "base_uri": "https://localhost:8080/",
          "height": 125
        },
        "id": "wZLxhb4pgnrR",
        "outputId": "847a72b8-d85f-4807-c891-5ca47dc85997"
      },
      "outputs": [
        {
          "output_type": "execute_result",
          "data": {
            "text/plain": [
              "     ┌──────────────┐┌──────────────┐          ┌───┐┌──────────────┐\n",
              "q_0: ┤ Rx(input[0]) ├┤ Ry(input[1]) ├──■───────┤ X ├┤ Ry(input[6]) ├\n",
              "     ├──────────────┤├──────────────┤┌─┴─┐     └─┬─┘├──────────────┤\n",
              "q_1: ┤ Rx(input[2]) ├┤ Ry(input[3]) ├┤ X ├──■────┼──┤ Ry(input[7]) ├\n",
              "     ├──────────────┤├──────────────┤└───┘┌─┴─┐  │  ├──────────────┤\n",
              "q_2: ┤ Rx(input[4]) ├┤ Ry(input[5]) ├─────┤ X ├──■──┤ Ry(input[8]) ├\n",
              "     └──────────────┘└──────────────┘     └───┘     └──────────────┘"
            ],
            "text/html": [
              "<pre style=\"word-wrap: normal;white-space: pre;background: #fff0;line-height: 1.1;font-family: &quot;Courier New&quot;,Courier,monospace\">     ┌──────────────┐┌──────────────┐          ┌───┐┌──────────────┐\n",
              "q_0: ┤ Rx(input[0]) ├┤ Ry(input[1]) ├──■───────┤ X ├┤ Ry(input[6]) ├\n",
              "     ├──────────────┤├──────────────┤┌─┴─┐     └─┬─┘├──────────────┤\n",
              "q_1: ┤ Rx(input[2]) ├┤ Ry(input[3]) ├┤ X ├──■────┼──┤ Ry(input[7]) ├\n",
              "     ├──────────────┤├──────────────┤└───┘┌─┴─┐  │  ├──────────────┤\n",
              "q_2: ┤ Rx(input[4]) ├┤ Ry(input[5]) ├─────┤ X ├──■──┤ Ry(input[8]) ├\n",
              "     └──────────────┘└──────────────┘     └───┘     └──────────────┘</pre>"
            ]
          },
          "metadata": {},
          "execution_count": 9
        }
      ],
      "source": [
        "f = Feature_map(num_qubits, Denc)\n",
        "circ = f.fmap()\n",
        "circ.draw()"
      ],
      "id": "wZLxhb4pgnrR"
    },
    {
      "cell_type": "code",
      "execution_count": null,
      "metadata": {
        "id": "GX0R5GONiPah"
      },
      "outputs": [],
      "source": [
        "class Ansatz():\n",
        "\n",
        "  '''\n",
        "  Creates the QSAN ansatz and returns the circuit along with its tunable parameters\n",
        "  '''\n",
        "\n",
        "  def __init__(self,num_qubits):\n",
        "    self.num_qubits = num_qubits\n",
        "\n",
        "  def parameterized_circuit(self, circuit, num_qubits, repitions, name):\n",
        "    parameter_prefix = str(name)\n",
        "    params = ParameterVector(parameter_prefix, num_qubits)\n",
        "    qc = QuantumCircuit(self.num_qubits)\n",
        "    for r in range(repitions):\n",
        "      qc.h(range(self.num_qubits))\n",
        "      for i in range(self.num_qubits):\n",
        "        qc.ry(params[i],i)\n",
        "    '''for i in range(self.num_qubits-1):\n",
        "      qc.cx(i,i+1)'''\n",
        "    qc.barrier()\n",
        "    circuit.compose(qc, inplace=True)\n",
        "    return circuit\n",
        "\n",
        "  def qsal_layer(self):\n",
        "    input_reg = QuantumRegister(self.num_qubits, 'input')\n",
        "    gar_q_reg = QuantumRegister(self.num_qubits, 'q')\n",
        "    gar_k_reg = QuantumRegister(self.num_qubits, 'k')\n",
        "    qls_reg = QuantumRegister(self.num_qubits, 'qls')\n",
        "    measure_reg = ClassicalRegister(3, 'measure')\n",
        "    circuit = QuantumCircuit(input_reg, gar_q_reg, gar_k_reg, qls_reg, measure_reg)\n",
        "\n",
        "    #input_data(circuit)\n",
        "    self.parameterized_circuit(circuit, self.num_qubits, 1, 'q')\n",
        "    circuit.barrier()\n",
        "\n",
        "    #barbell\n",
        "    for k in range (self.num_qubits):\n",
        "        circuit.swap(input_reg[k], gar_q_reg[k])\n",
        "    circuit.barrier()\n",
        "    self.parameterized_circuit(circuit, self.num_qubits, 1, 'k')\n",
        "    circuit.barrier()\n",
        "\n",
        "    #barbell\n",
        "    for k in range (self.num_qubits):\n",
        "        circuit.swap(input_reg[k], gar_k_reg[k])\n",
        "    circuit.barrier()\n",
        "\n",
        "    #qls_module\n",
        "    for k in range(self.num_qubits):\n",
        "        circuit.ccx(gar_q_reg[k], gar_k_reg[k], qls_reg[k])\n",
        "    circuit.barrier()\n",
        "    for k in range(self.num_qubits-1):\n",
        "        circuit.cx(qls_reg[k], qls_reg[k+1])\n",
        "    circuit.barrier()\n",
        "    self.parameterized_circuit(circuit, self.num_qubits, 1, 'v')\n",
        "    circuit.barrier()\n",
        "\n",
        "    #compression\n",
        "    '''for k in range(self.num_qubits-1):\n",
        "        circuit.cx(input_reg[k], input_reg[k+1])'''\n",
        "\n",
        "    #slicing\n",
        "    for k in range(self.num_qubits):\n",
        "        circuit.reset(gar_q_reg[k])\n",
        "    for k in range(self.num_qubits):\n",
        "        circuit.cx(qls_reg[k], gar_q_reg[k])\n",
        "        return circuit\n",
        "\n",
        "  def parameters(self):\n",
        "    circuit = self.qsal_layer()\n",
        "    return circuit.parameters"
      ],
      "id": "GX0R5GONiPah"
    },
    {
      "cell_type": "code",
      "execution_count": null,
      "metadata": {
        "id": "S7VPMi2P7Zmq"
      },
      "outputs": [],
      "source": [
        "def create_observables(num_qubits,*index_dicts):\n",
        "  '''\n",
        "  Create your custom observables\n",
        "  num_qubits: # input qubits (int)\n",
        "  index_dicts: dictionaries containing values as Pauli Operators and keys as indices locating the circuit line to apply the pauli operator\n",
        "  '''\n",
        "  observables=[]\n",
        "  num_obs = len(index_dicts)\n",
        "  pauli_str = \"I\"*num_qubits*4\n",
        "  for index_dict in index_dicts:\n",
        "    obs = list(pauli_str)\n",
        "    for index in index_dict.keys():\n",
        "      obs[index] = index_dict[index]\n",
        "    observables.append(SparsePauliOp.from_list([(\"\".join(obs),1)]))\n",
        "  return observables"
      ],
      "id": "S7VPMi2P7Zmq"
    },
    {
      "cell_type": "code",
      "execution_count": null,
      "metadata": {
        "colab": {
          "base_uri": "https://localhost:8080/"
        },
        "id": "lbJOYeMfDgOI",
        "outputId": "28bccd9c-9a1e-44ca-8203-c787ae1a66d3"
      },
      "outputs": [
        {
          "output_type": "execute_result",
          "data": {
            "text/plain": [
              "[SparsePauliOp(['IIZZZZIIIIII'],\n",
              "               coeffs=[1.+0.j])]"
            ]
          },
          "metadata": {},
          "execution_count": 12
        }
      ],
      "source": [
        "create_observables(num_qubits, {2:'Z',3:'Z',4:'Z',5:'Z'})"
      ],
      "id": "lbJOYeMfDgOI"
    },
    {
      "cell_type": "code",
      "execution_count": null,
      "metadata": {
        "id": "52712aca-6712-469e-b64d-d5192632b8a6"
      },
      "outputs": [],
      "source": [
        "def create_qnn(num_qubits, Denc):\n",
        "\n",
        "    # create instances of class Feature_map and Ansatz for further usage\n",
        "    feature_map = Feature_map(num_qubits, Denc)\n",
        "    ansatz = Ansatz(num_qubits)\n",
        "    # create your custom observable(s) by passing dictionaries\n",
        "    observables = create_observables(num_qubits, {2:'Z',3:'Z',4:'Z',5:'Z'}, {2:'X',3:'X',4:'X',5:'X'})\n",
        "    # initialize the total quantum circuit\n",
        "    input_reg = QuantumRegister(num_qubits, 'input')\n",
        "    gar_q_reg = QuantumRegister(num_qubits, 'q')\n",
        "    gar_k_reg = QuantumRegister(num_qubits, 'k')\n",
        "    qls_reg = QuantumRegister(num_qubits, 'qls')\n",
        "    qc = QuantumCircuit(input_reg, gar_q_reg, gar_k_reg, qls_reg)\n",
        "    # create the quantum encoder circuit from feature map created above\n",
        "    sub_circ = QuantumCircuit(num_qubits, name='quantum encoder')\n",
        "    sub_circ.compose(feature_map.fmap(), inplace=True)\n",
        "    # apply the same encoder to input registers, garbage q registers and garbage k registers\n",
        "    qc.append(sub_circ.to_instruction(), [input_reg[i] for i in range(num_qubits)])\n",
        "    qc.append(sub_circ.to_instruction(), [gar_q_reg[i] for i in range(num_qubits)])\n",
        "    qc.append(sub_circ.to_instruction(), [gar_k_reg[i] for i in range(num_qubits)])\n",
        "    input_params = qc.parameters\n",
        "    # finally add the QSAN ansatz\n",
        "    qc.compose(ansatz.qsal_layer(), inplace=True)\n",
        "    # create the estimator primitive of the above quantum circuit using EstimatorQNN and set it to training mode\n",
        "    qnn = EstimatorQNN(\n",
        "        circuit=qc,\n",
        "        observables=observables,\n",
        "        input_params=input_params,\n",
        "        weight_params=ansatz.parameters(),\n",
        "        input_gradients=True,\n",
        "    )\n",
        "    return qnn\n",
        "\n",
        "qnn = create_qnn(num_qubits, Denc)"
      ],
      "id": "52712aca-6712-469e-b64d-d5192632b8a6"
    },
    {
      "cell_type": "code",
      "execution_count": null,
      "metadata": {
        "id": "85ddbc97-2461-479a-a612-330b2b57338f"
      },
      "outputs": [],
      "source": [
        "class QImageNet(Module):\n",
        "    def __init__(self, qnn, num_qubits, Denc):\n",
        "        super().__init__()\n",
        "        self.num_qubits = num_qubits\n",
        "        self.Denc = Denc\n",
        "        self.fc1 = Linear(784, 256)\n",
        "        self.dropout = Dropout(p=0.3)\n",
        "        self.fc2 = Linear(256,64)\n",
        "        self.dropout = Dropout(p=0.4)\n",
        "        self.fc3 = Linear(64, self.num_qubits*(self.Denc+2))   # num_qubits*(Denc+2)-dimensional input to QNN\n",
        "        self.qnn = TorchConnector(qnn)  # Apply torch connector, weights chosen uniformly at random from interval [-1,1].\n",
        "        self.fc4 = Linear(2, 10)  # 2-dim input as there are 2 observables, 10-dimensional output from QNN\n",
        "\n",
        "    def forward(self, x):\n",
        "        x = x.view(x.shape[0], -1)\n",
        "        x = F.relu(self.fc1(x))\n",
        "        x = self.dropout(x)\n",
        "        x = F.relu(self.fc2(x))\n",
        "        x = self.dropout(x)\n",
        "        x = F.relu(self.fc3(x))\n",
        "        x = torch.tanh(x) * np.pi / 2.0\n",
        "        q_out = torch.Tensor(0, 2)\n",
        "        q_out = q_out.to(device)\n",
        "        for elem in x:\n",
        "            q_out_elem = self.qnn(elem).float().unsqueeze(0)\n",
        "            q_out = torch.cat((q_out, q_out_elem))\n",
        "        return self.fc4(q_out)\n",
        "\n",
        "\n",
        "model = QImageNet(qnn,num_qubits, Denc).to(device)"
      ],
      "id": "85ddbc97-2461-479a-a612-330b2b57338f"
    },
    {
      "cell_type": "code",
      "execution_count": null,
      "metadata": {
        "id": "-1KGpoushuaZ"
      },
      "outputs": [],
      "source": [
        "def accuracy_fn(y_true, y_pred):\n",
        "    correct = torch.eq(y_true, y_pred).sum().item() # torch.eq() calculates where two tensors are equal\n",
        "    acc = (correct / len(y_pred)) * 100\n",
        "    return acc"
      ],
      "id": "-1KGpoushuaZ"
    },
    {
      "cell_type": "code",
      "execution_count": null,
      "metadata": {
        "colab": {
          "base_uri": "https://localhost:8080/",
          "height": 444
        },
        "id": "1f116072-1f1b-4c7a-8882-f9f69dd05df3",
        "outputId": "1a7b5e59-ff98-4480-c534-efb8b1b3e54c"
      },
      "outputs": [
        {
          "output_type": "stream",
          "name": "stdout",
          "text": [
            "Epoch: 1 |Train Loss: 2.4133310317993164 | Train Accuracy: 11.640625 | Test Loss: 2.381824016571045 | Test Accuracy: 9.585336538461538\n",
            "Epoch: 2 |Train Loss: 2.4108062237501144 | Train Accuracy: 11.58203125 | Test Loss: 2.380723476409912 | Test Accuracy: 9.359975961538462\n"
          ]
        },
        {
          "output_type": "error",
          "ename": "KeyboardInterrupt",
          "evalue": "ignored",
          "traceback": [
            "\u001b[0;31m---------------------------------------------------------------------------\u001b[0m",
            "\u001b[0;31mKeyboardInterrupt\u001b[0m                         Traceback (most recent call last)",
            "\u001b[0;32m<ipython-input-16-95031344caec>\u001b[0m in \u001b[0;36m<cell line: 13>\u001b[0;34m()\u001b[0m\n\u001b[1;32m     25\u001b[0m         acc = accuracy_fn(y_true=y_train_batch,\n\u001b[1;32m     26\u001b[0m                                 y_pred=train_pred)\n\u001b[0;32m---> 27\u001b[0;31m         \u001b[0mloss\u001b[0m\u001b[0;34m.\u001b[0m\u001b[0mbackward\u001b[0m\u001b[0;34m(\u001b[0m\u001b[0;34m)\u001b[0m                                                     \u001b[0;31m# Backward pass\u001b[0m\u001b[0;34m\u001b[0m\u001b[0;34m\u001b[0m\u001b[0m\n\u001b[0m\u001b[1;32m     28\u001b[0m         \u001b[0moptimizer\u001b[0m\u001b[0;34m.\u001b[0m\u001b[0mstep\u001b[0m\u001b[0;34m(\u001b[0m\u001b[0;34m)\u001b[0m                                                    \u001b[0;31m# Optimize weights\u001b[0m\u001b[0;34m\u001b[0m\u001b[0;34m\u001b[0m\u001b[0m\n\u001b[1;32m     29\u001b[0m         \u001b[0mtrain_loss\u001b[0m\u001b[0;34m.\u001b[0m\u001b[0mappend\u001b[0m\u001b[0;34m(\u001b[0m\u001b[0mloss\u001b[0m\u001b[0;34m.\u001b[0m\u001b[0mitem\u001b[0m\u001b[0;34m(\u001b[0m\u001b[0;34m)\u001b[0m\u001b[0;34m)\u001b[0m                                      \u001b[0;31m# Store loss\u001b[0m\u001b[0;34m\u001b[0m\u001b[0;34m\u001b[0m\u001b[0m\n",
            "\u001b[0;32m/usr/local/lib/python3.10/dist-packages/torch/_tensor.py\u001b[0m in \u001b[0;36mbackward\u001b[0;34m(self, gradient, retain_graph, create_graph, inputs)\u001b[0m\n\u001b[1;32m    485\u001b[0m                 \u001b[0minputs\u001b[0m\u001b[0;34m=\u001b[0m\u001b[0minputs\u001b[0m\u001b[0;34m,\u001b[0m\u001b[0;34m\u001b[0m\u001b[0;34m\u001b[0m\u001b[0m\n\u001b[1;32m    486\u001b[0m             )\n\u001b[0;32m--> 487\u001b[0;31m         torch.autograd.backward(\n\u001b[0m\u001b[1;32m    488\u001b[0m             \u001b[0mself\u001b[0m\u001b[0;34m,\u001b[0m \u001b[0mgradient\u001b[0m\u001b[0;34m,\u001b[0m \u001b[0mretain_graph\u001b[0m\u001b[0;34m,\u001b[0m \u001b[0mcreate_graph\u001b[0m\u001b[0;34m,\u001b[0m \u001b[0minputs\u001b[0m\u001b[0;34m=\u001b[0m\u001b[0minputs\u001b[0m\u001b[0;34m\u001b[0m\u001b[0;34m\u001b[0m\u001b[0m\n\u001b[1;32m    489\u001b[0m         )\n",
            "\u001b[0;32m/usr/local/lib/python3.10/dist-packages/torch/autograd/__init__.py\u001b[0m in \u001b[0;36mbackward\u001b[0;34m(tensors, grad_tensors, retain_graph, create_graph, grad_variables, inputs)\u001b[0m\n\u001b[1;32m    198\u001b[0m     \u001b[0;31m# some Python versions print out the first line of a multi-line function\u001b[0m\u001b[0;34m\u001b[0m\u001b[0;34m\u001b[0m\u001b[0m\n\u001b[1;32m    199\u001b[0m     \u001b[0;31m# calls in the traceback and some print out the last line\u001b[0m\u001b[0;34m\u001b[0m\u001b[0;34m\u001b[0m\u001b[0m\n\u001b[0;32m--> 200\u001b[0;31m     Variable._execution_engine.run_backward(  # Calls into the C++ engine to run the backward pass\n\u001b[0m\u001b[1;32m    201\u001b[0m         \u001b[0mtensors\u001b[0m\u001b[0;34m,\u001b[0m \u001b[0mgrad_tensors_\u001b[0m\u001b[0;34m,\u001b[0m \u001b[0mretain_graph\u001b[0m\u001b[0;34m,\u001b[0m \u001b[0mcreate_graph\u001b[0m\u001b[0;34m,\u001b[0m \u001b[0minputs\u001b[0m\u001b[0;34m,\u001b[0m\u001b[0;34m\u001b[0m\u001b[0;34m\u001b[0m\u001b[0m\n\u001b[1;32m    202\u001b[0m         allow_unreachable=True, accumulate_grad=True)  # Calls into the C++ engine to run the backward pass\n",
            "\u001b[0;31mKeyboardInterrupt\u001b[0m: "
          ]
        }
      ],
      "source": [
        "# Define model, optimizer, and loss function\n",
        "\n",
        "optimizer = optim.Adam(model.parameters(), lr=0.001)\n",
        "loss_func = CrossEntropyLoss()\n",
        "\n",
        "# Start training\n",
        "epochs = 20  # Set number of epochs\n",
        "train_loss_list = []  # Store loss history\n",
        "test_loss_list = []\n",
        "train_acc_list = []\n",
        "test_acc_list = []\n",
        "\n",
        "for epoch in range(epochs):\n",
        "\n",
        "    model.train()  # Set model to training mode\n",
        "    train_loss = []\n",
        "    train_acc = []\n",
        "    for batch_idx, (X_train_batch, y_train_batch) in enumerate(train_loader):\n",
        "        X_train_batch = X_train_batch.to(device)\n",
        "        y_train_batch = y_train_batch.to(device)\n",
        "        optimizer.zero_grad(set_to_none=True)                               # Initialize gradient\n",
        "        train_logits = model(X_train_batch)                                 # Forward pass\n",
        "        train_pred = train_logits.argmax(dim=1)\n",
        "        loss = loss_func(train_logits, y_train_batch)                       # Calculate loss\n",
        "        acc = accuracy_fn(y_true=y_train_batch,\n",
        "                                y_pred=train_pred)\n",
        "        loss.backward()                                                     # Backward pass\n",
        "        optimizer.step()                                                    # Optimize weights\n",
        "        train_loss.append(loss.item())                                      # Store loss\n",
        "        train_acc.append(acc)\n",
        "    train_loss_list.append(sum(train_loss) / len(train_loss))\n",
        "    train_acc_list.append(sum(train_acc)/len(train_acc))\n",
        "\n",
        "    model.eval()\n",
        "    test_loss = []\n",
        "    test_acc = []\n",
        "    for batch_idx, (X_test_batch, y_test_batch) in enumerate(test_loader):\n",
        "        X_test_batch = X_test_batch.to(device)\n",
        "        y_test_batch = y_test_batch.to(device)\n",
        "        with torch.inference_mode():\n",
        "          # 1. Forward pass\n",
        "          test_logits = model(X_test_batch)\n",
        "          test_pred = test_logits.argmax(dim=1)\n",
        "          # 2. Calculate test loss and accuracy\n",
        "          loss = loss_func(test_logits, y_test_batch)\n",
        "          acc = accuracy_fn(y_true=y_test_batch,\n",
        "                                y_pred=test_pred)\n",
        "          test_loss.append(loss)\n",
        "          test_acc.append(acc)\n",
        "    test_loss_list.append(sum(test_loss) / len(test_loss))\n",
        "    test_acc_list.append(sum(test_acc)/len(test_acc))\n",
        "    print(f\"Epoch: {epoch+1} |Train Loss: {train_loss_list[-1]} | Train Accuracy: {train_acc_list[-1]} | Test Loss: {test_loss_list[-1]} | Test Accuracy: {test_acc_list[-1]}\")"
      ],
      "id": "1f116072-1f1b-4c7a-8882-f9f69dd05df3"
    },
    {
      "cell_type": "code",
      "execution_count": null,
      "metadata": {
        "id": "IqYVLyR1CHL3"
      },
      "outputs": [],
      "source": [],
      "id": "IqYVLyR1CHL3"
    }
  ],
  "metadata": {
    "accelerator": "GPU",
    "colab": {
      "provenance": []
    },
    "kernelspec": {
      "display_name": "Python 3",
      "name": "python3"
    },
    "language_info": {
      "codemirror_mode": {
        "name": "ipython",
        "version": 3
      },
      "file_extension": ".py",
      "mimetype": "text/x-python",
      "name": "python",
      "nbconvert_exporter": "python",
      "pygments_lexer": "ipython3",
      "version": "3.10.8"
    }
  },
  "nbformat": 4,
  "nbformat_minor": 5
}